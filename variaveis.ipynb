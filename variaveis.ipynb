{
 "cells": [
  {
   "cell_type": "code",
   "execution_count": null,
   "metadata": {},
   "outputs": [],
   "source": [
    "ola_mundo = \"Olá mundo, estou vivo!\"\n",
    "\n",
    "print(\"Essa é a variável \" + ola_mundo )\n",
    "print(\"Esse é meu texto: Olá mundo, estou vivo!\")\n"
   ]
  },
  {
   "cell_type": "code",
   "execution_count": null,
   "metadata": {},
   "outputs": [],
   "source": [
    "numero_str = input('Digite um número: ')\n",
    "print(numero_str)\n",
    "numero_real = float(input('Digite um número: '))"
   ]
  },
  {
   "cell_type": "code",
   "execution_count": null,
   "metadata": {},
   "outputs": [],
   "source": [
    "type(numero_str)\n",
    "type(numero_real)"
   ]
  },
  {
   "cell_type": "code",
   "execution_count": null,
   "metadata": {},
   "outputs": [],
   "source": [
    "a = 5\n",
    "print(a, type(a))\n",
    "b = 5.5\n",
    "print(b, type(b))\n",
    "c = a + b \n",
    "print(c, type(c))"
   ]
  },
  {
   "cell_type": "code",
   "execution_count": null,
   "metadata": {},
   "outputs": [],
   "source": [
    "n = 5 + 5j\n",
    "print(n, type(n))\n",
    "\n",
    "n_1 = 1j\n",
    "n_2 = 1j\n",
    "n_1 * n_2"
   ]
  },
  {
   "cell_type": "code",
   "execution_count": null,
   "metadata": {},
   "outputs": [],
   "source": [
    "string_numero = '123'\n",
    "\n",
    "string_numero * 3\n"
   ]
  },
  {
   "cell_type": "code",
   "execution_count": null,
   "metadata": {},
   "outputs": [],
   "source": [
    "a = 'Olá mundo!'\n",
    "print(a)\n",
    "b = 'Olá \\' mundo!'\n",
    "print(b)\n",
    "var = 'Olá \\n muundo ! \\' estou vivo! \\n'\n",
    "print(var)"
   ]
  },
  {
   "cell_type": "code",
   "execution_count": null,
   "metadata": {},
   "outputs": [],
   "source": [
    "lista_a = [1,2,4,5,6]\n",
    "print(lista_a)\n",
    "\n",
    "lista_b = [a,2,3,[1,2,3],4,'sffq']\n",
    "print(lista_b)\n",
    "\n",
    "print(lista_b[1])\n",
    "\n",
    "print('Demonstração do for: ')\n",
    "for l in lista_b:\n",
    "    print(l)\n",
    "    \n",
    "lista_a + lista_b\n",
    "\n",
    "tamanho_a = len(lista_a)\n",
    "tamanho_b = len(lista_b)\n",
    "tamanho_c = len(lista_a + lista_b)\n",
    "print(f'Tamanho lista_a {tamanho_a}')\n",
    "print(f'Tamanho lista_b {tamanho_b}')\n",
    "print(f'Tamanho lista_c {tamanho_c}')"
   ]
  },
  {
   "cell_type": "code",
   "execution_count": null,
   "metadata": {},
   "outputs": [],
   "source": [
    "print(lista_a[:3])\n",
    "\n",
    "print(lista_b[:6])\n",
    "\n",
    "print(lista_a[2:])\n",
    "\n",
    "print(lista_b[4:])"
   ]
  },
  {
   "cell_type": "code",
   "execution_count": null,
   "metadata": {},
   "outputs": [],
   "source": [
    "a = True\n",
    "b = False \n",
    "\n",
    "if a == b:\n",
    "    if type(a) != type(b):\n",
    "        print('Tipos diferentes!')\n",
    "    print('Verdadeiro')\n",
    "else:\n",
    "    if type(a) == type(b):\n",
    "        print('Tipos Iguais.')\n",
    "    print('Falso')\n",
    "    \n"
   ]
  },
  {
   "cell_type": "code",
   "execution_count": null,
   "metadata": {},
   "outputs": [],
   "source": [
    "x = -5\n",
    "a = type(x)\n",
    "f = True\n",
    "\n",
    "if f == a:\n",
    "    print('Caso um')\n",
    "elif type(x) == a:\n",
    "    print('Tipos iguais.')\n",
    "else:\n",
    "    print('caso 2')"
   ]
  },
  {
   "cell_type": "code",
   "execution_count": null,
   "metadata": {},
   "outputs": [],
   "source": [
    "if f == True:\n",
    "    print('É verdade!')\n",
    "else:\n",
    "    print('Mentiroso!')"
   ]
  }
 ],
 "metadata": {
  "kernelspec": {
   "display_name": "Python 3",
   "language": "python",
   "name": "python3"
  },
  "language_info": {
   "codemirror_mode": {
    "name": "ipython",
    "version": 3
   },
   "file_extension": ".py",
   "mimetype": "text/x-python",
   "name": "python",
   "nbconvert_exporter": "python",
   "pygments_lexer": "ipython3",
   "version": "3.11.3"
  }
 },
 "nbformat": 4,
 "nbformat_minor": 2
}
